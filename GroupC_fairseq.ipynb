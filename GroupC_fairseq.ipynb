{
  "cells": [
    {
      "cell_type": "markdown",
      "metadata": {
        "id": "bNPQfuJtToFW"
      },
      "source": [
        "Make sure you use GPU env.\n",
        "Go to `Runtime->Change runtime type` to change the runtime resources."
      ]
    },
    {
      "cell_type": "markdown",
      "metadata": {
        "id": "U3IC8PhHan2_"
      },
      "source": [
        "First mount your google drive."
      ]
    },
    {
      "cell_type": "code",
      "execution_count": 1,
      "metadata": {
        "colab": {
          "base_uri": "https://localhost:8080/"
        },
        "id": "jHu5w9CvM9jv",
        "outputId": "d4530641-d64f-4e79-86d1-8f815bbe0349"
      },
      "outputs": [
        {
          "output_type": "stream",
          "name": "stdout",
          "text": [
            "Mounted at /content/drive/\n"
          ]
        }
      ],
      "source": [
        "from google.colab import drive\n",
        "import os, sys\n",
        "drive.mount('/content/drive/')"
      ]
    },
    {
      "cell_type": "markdown",
      "metadata": {
        "id": "yfyPoyYma3gS"
      },
      "source": [
        "Install `torch` and `fairseq`. You might want to store binaries in your google drive, so you don't need to install it every time. See https://stackoverflow.com/a/55253499 for details."
      ]
    },
    {
      "cell_type": "code",
      "execution_count": null,
      "metadata": {
        "id": "KIm0gMEZQhke"
      },
      "outputs": [],
      "source": [
        "#make sure to use older torch version. fairseq doesn't work the best with torch2\n",
        "!pip install torch==1.12.1+cu113 torchvision==0.13.1+cu113 torchaudio==0.12.1 --extra-index-url https://download.pytorch.org/whl/cu113"
      ]
    },
    {
      "cell_type": "code",
      "execution_count": null,
      "metadata": {
        "id": "xGW-AEaLUuvd"
      },
      "outputs": [],
      "source": [
        "#install fairseq\n",
        "!pip install fairseq==0.12.2"
      ]
    },
    {
      "cell_type": "code",
      "execution_count": null,
      "metadata": {
        "id": "lQN_Y5WRWgAo"
      },
      "outputs": [],
      "source": [
        "#sacremoses is needed to detokenize sentences for evaluation\n",
        "!pip install sacremoses"
      ]
    },
    {
      "cell_type": "markdown",
      "metadata": {
        "id": "7ZTwSZYZbVu2"
      },
      "source": [
        "Clone the repo you are going to work with. You need to fork the project repo https://github.com/afeena/fairseq_easy_extend.git\n",
        "\n",
        "`cmlm_transformer_base` and `rl_criterion` files created for your convinience."
      ]
    },
    {
      "cell_type": "code",
      "execution_count": null,
      "metadata": {
        "id": "4o-giZznNCH4"
      },
      "outputs": [],
      "source": [
        "import os\n",
        "!git clone https://github.com/super-r1/fairseq_easy_extend.git #here change to your own repo\n",
        "%cd /content/fairseq_easy_extend"
      ]
    },
    {
      "cell_type": "code",
      "execution_count": null,
      "metadata": {
        "id": "Pde5nQfu5t71"
      },
      "outputs": [],
      "source": [
        "%cd /content"
      ]
    },
    {
      "cell_type": "code",
      "execution_count": null,
      "metadata": {
        "id": "sVtIA7qq5hIM"
      },
      "outputs": [],
      "source": [
        "!pip install --upgrade pip  # ensures that pip is current\n",
        "!git clone https://github.com/google-research/bleurt.git\n",
        "%cd bleurt\n",
        "!pip install .\n",
        "%cd /content/bleurt/bleurt\n",
        "!wget https://storage.googleapis.com/bleurt-oss-21/BLEURT-20.zip .\n",
        "!unzip BLEURT-20.zip"
      ]
    },
    {
      "cell_type": "code",
      "execution_count": null,
      "metadata": {
        "id": "fRya9HJj_2Z5"
      },
      "outputs": [],
      "source": [
        "!pip install --upgrade pip  # ensures that pip is current \n",
        "!pip install unbabel-comet\n",
        "!pip install sacrebleu\n",
        "!pip install bert_score"
      ]
    },
    {
      "cell_type": "markdown",
      "metadata": {
        "id": "VwVS7FFCbi0o"
      },
      "source": [
        "Example config is for baseline cmlm training. \n",
        "\n",
        "Add `checkpoint.restore_file=<path to checkpoint>` and `checkpoint.reset_optimizer=True` for finetuning. You need to change hyperparameters for fine-tuning! \n",
        "\n",
        "Also, set `checkpoint.save_dir=<path>`"
      ]
    },
    {
      "cell_type": "markdown",
      "metadata": {
        "id": "77ESrB1VbzIE"
      },
      "source": [
        "Training of the model. You can change parameters in your config file or override directly"
      ]
    },
    {
      "cell_type": "code",
      "execution_count": null,
      "metadata": {
        "id": "DqZ0Kpjx1I-A"
      },
      "outputs": [],
      "source": []
    },
    {
      "cell_type": "code",
      "execution_count": null,
      "metadata": {
        "id": "FfLWVYsEOupn"
      },
      "outputs": [],
      "source": [
        "%cd /content/fairseq_easy_extend\n",
        "!python train.py --config-dir \"/content/fairseq_easy_extend/fairseq_easy_extend/models/nat/\" --config-name \"cmlm_config.yaml\" \\\n",
        "task.data=/content/drive/MyDrive/NLP2-2023-ET/iwslt14.tokenize.de-en.sample/iwslt14.tokenized.de-en"
      ]
    },
    {
      "cell_type": "markdown",
      "metadata": {
        "id": "NRhAVoWXNYDs"
      },
      "source": [
        "Fine-tuning example BLEU"
      ]
    },
    {
      "cell_type": "code",
      "execution_count": null,
      "metadata": {
        "id": "cBuimSpFhpiu"
      },
      "outputs": [],
      "source": [
        "%cd /content\n",
        "!mkdir checkpoint\n",
        "%cd checkpoint\n",
        "!mkdir bleu\n",
        "!mkdir bleurt\n",
        "!mkdir meteor\n",
        "!mkdir comet\n",
        "!mkdir chrf\n",
        "!mkdir sacrebleu\n",
        "%cd /content/fairseq_easy_extend"
      ]
    },
    {
      "cell_type": "markdown",
      "source": [
        "To run our models, use the bash script provided with [bleu, comet, meteor, chrf, sacrebleu, bleurt]"
      ],
      "metadata": {
        "id": "GyeEOqfdTUCA"
      }
    },
    {
      "cell_type": "code",
      "execution_count": null,
      "metadata": {
        "id": "IQa_hmdq3OXf"
      },
      "outputs": [],
      "source": [
        "!bash run.sh bleu\n",
        "!bash run.sh comet\n",
        "!bash run.sh meteor\n",
        "!bash run.sh chrf\n",
        "!bash run.sh bleurt\n",
        "!bash run.sh sacrebleu"
      ]
    },
    {
      "cell_type": "markdown",
      "source": [
        "To score our models, use the bash script provided with [bleu, comet, meteor, chrf, sacrebleu, bleurt]"
      ],
      "metadata": {
        "id": "b3OikDQoT9p6"
      }
    },
    {
      "cell_type": "code",
      "source": [
        "!bash score.sh bleu\n",
        "!bash score.sh comet\n",
        "!bash score.sh meteor\n",
        "!bash score.sh chrf\n",
        "!bash score.sh bleurt\n",
        "!bash score.sh sacrebleu"
      ],
      "metadata": {
        "id": "1HqIU3NsTsZM"
      },
      "execution_count": null,
      "outputs": []
    }
  ],
  "metadata": {
    "accelerator": "GPU",
    "colab": {
      "machine_shape": "hm",
      "provenance": [],
      "gpuType": "A100"
    },
    "kernelspec": {
      "display_name": "Python 3",
      "name": "python3"
    },
    "language_info": {
      "name": "python"
    }
  },
  "nbformat": 4,
  "nbformat_minor": 0
}